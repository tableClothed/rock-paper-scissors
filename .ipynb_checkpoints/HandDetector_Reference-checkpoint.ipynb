{
 "cells": [
  {
   "cell_type": "code",
   "execution_count": 84,
   "metadata": {},
   "outputs": [],
   "source": [
    "import scipy.io as sio\n",
    "import os\n",
    "import numpy as np\n",
    "import cv2\n",
    "import matplotlib.pyplot as plt"
   ]
  },
  {
   "cell_type": "code",
   "execution_count": 95,
   "metadata": {},
   "outputs": [],
   "source": [
    "path_label = os.getcwd() + '\\\\images\\\\test\\\\CARDS_COURTYARD_B_T\\\\polygons.mat'\n",
    "path_img = os.getcwd() + '\\\\images\\\\test\\\\CARDS_COURTYARD_B_T\\\\frame_0011.jpg'\n",
    "mat = sio.loadmat(path)\n",
    "img = np.array(cv2.imread(path_img))"
   ]
  },
  {
   "cell_type": "code",
   "execution_count": 96,
   "metadata": {},
   "outputs": [
    {
     "data": {
      "text/plain": [
       "dict_keys(['__header__', '__version__', '__globals__', 'polygons'])"
      ]
     },
     "execution_count": 96,
     "metadata": {},
     "output_type": "execute_result"
    }
   ],
   "source": [
    "mat.keys()"
   ]
  },
  {
   "cell_type": "code",
   "execution_count": 97,
   "metadata": {},
   "outputs": [
    {
     "data": {
      "text/plain": [
       "(100,)"
      ]
     },
     "execution_count": 97,
     "metadata": {},
     "output_type": "execute_result"
    }
   ],
   "source": [
    "pols = mat[\"polygons\"][0]\n",
    "pols.shape"
   ]
  },
  {
   "cell_type": "code",
   "execution_count": 100,
   "metadata": {},
   "outputs": [],
   "source": [
    "for point in pols[0]:\n",
    "    for p in point:\n",
    "        if len(p) > 1:\n",
    "            img = cv2.circle(img, (int(p[0]), int(p[1])), 1, (0, 255, 255), -1)\n",
    "plt.imshow"
   ]
  },
  {
   "cell_type": "code",
   "execution_count": 101,
   "metadata": {},
   "outputs": [
    {
     "name": "stdout",
     "output_type": "stream",
     "text": [
      "[[349.67195181  95.78639115]]\n",
      "[[344.34275407 117.13117158]]\n",
      "[[369.46530309 123.40357301]]\n",
      "[[374.79450083 102.05879258]]\n"
     ]
    }
   ],
   "source": [
    "for i in range(len(boxes)-2):\n",
    "    box = np.array(boxes[i])\n",
    "    print(box)"
   ]
  },
  {
   "cell_type": "code",
   "execution_count": null,
   "metadata": {},
   "outputs": [],
   "source": []
  }
 ],
 "metadata": {
  "kernelspec": {
   "display_name": "Python 3",
   "language": "python",
   "name": "python3"
  },
  "language_info": {
   "codemirror_mode": {
    "name": "ipython",
    "version": 3
   },
   "file_extension": ".py",
   "mimetype": "text/x-python",
   "name": "python",
   "nbconvert_exporter": "python",
   "pygments_lexer": "ipython3",
   "version": "3.7.6"
  }
 },
 "nbformat": 4,
 "nbformat_minor": 4
}
