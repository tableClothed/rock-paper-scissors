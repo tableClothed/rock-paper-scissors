{
 "cells": [
  {
   "cell_type": "code",
   "execution_count": 136,
   "metadata": {
    "colab": {
     "base_uri": "https://localhost:8080/",
     "height": 229
    },
    "colab_type": "code",
    "id": "oA-WnJNjSdV6",
    "outputId": "4c2d0657-30ce-438d-8d3b-08a782cc7f6a"
   },
   "outputs": [],
   "source": [
    "import tensorflow as tf\n",
    "import cv2\n",
    "import numpy as np\n",
    "import os\n",
    "import matplotlib.pyplot as plt\n",
    "\n",
    "DIR = os.getcwd() + \"\\\\imgs\"\n",
    "\n",
    "SIGNS = [\"rock\", \"paper\", \"scissors\", \"quit\", \"none\"]\n",
    "IMG_SIZE = 50\n",
    "\n",
    "train_data = []\n",
    "\n",
    "for sign in SIGNS:\n",
    "  path = os.path.join(DIR, sign)\n",
    "  label = SIGNS.index(sign)\n",
    "  for img in os.listdir(path):\n",
    "    img_array = cv2.imread(os.path.join(path, img), 0)\n",
    "    img_array = cv2.resize(img_array, (IMG_SIZE, IMG_SIZE))\n",
    "    train_data.append([img_array, label])\n"
   ]
  },
  {
   "cell_type": "code",
   "execution_count": 137,
   "metadata": {
    "colab": {},
    "colab_type": "code",
    "id": "ugFVejB1XXaL"
   },
   "outputs": [],
   "source": [
    "import random\n",
    "\n",
    "random.shuffle(train_data)\n",
    "\n",
    "X, Y = [], []\n",
    "\n",
    "for x, y in train_data:\n",
    "    X.append(x)\n",
    "    Y.append(y)\n",
    "\n",
    "X = np.array(X).reshape(-1, IMG_SIZE,  IMG_SIZE, 1)\n",
    "Y = np.array(Y)"
   ]
  },
  {
   "cell_type": "code",
   "execution_count": 138,
   "metadata": {
    "colab": {},
    "colab_type": "code",
    "id": "hmO8R13zSkCx"
   },
   "outputs": [],
   "source": [
    "import tensorflow.keras.layers as ly\n",
    "from tensorflow.keras.models import Sequential\n",
    "\n",
    "model = Sequential()\n",
    "model.add(ly.Conv2D(32, (3, 3), input_shape=(IMG_SIZE, IMG_SIZE, 1)))\n",
    "model.add(ly.Activation(\"relu\"))\n",
    "\n",
    "model.add(ly.Conv2D(32, (3, 3), activation=\"relu\"))\n",
    "model.add(ly.MaxPooling2D((2, 2)))\n",
    "model.add(ly.Dropout(0.5))\n",
    "\n",
    "model.add(ly.Flatten())\n",
    "model.add(ly.Dense(128, activation=\"relu\"))\n",
    "model.add(ly.Dropout(0.5))\n",
    "model.add(ly.Dense(5, activation=\"softmax\"))"
   ]
  },
  {
   "cell_type": "code",
   "execution_count": 139,
   "metadata": {},
   "outputs": [],
   "source": [
    "model.compile(optimizer=\"adam\",\n",
    "             loss=\"sparse_categorical_crossentropy\",\n",
    "             metrics=['accuracy'])"
   ]
  },
  {
   "cell_type": "code",
   "execution_count": 140,
   "metadata": {},
   "outputs": [],
   "source": [
    "import time\n",
    "\n",
    "NAME = \"TH_LAYER_{}\".format(int(time.time()))\n",
    "tensorboard = tf.keras.callbacks.TensorBoard(log_dir=\"logs/{}\".format(NAME),\n",
    "                                             histogram_freq=1,\n",
    "                                             profile_batch=100000000)"
   ]
  },
  {
   "cell_type": "code",
   "execution_count": 142,
   "metadata": {},
   "outputs": [
    {
     "name": "stdout",
     "output_type": "stream",
     "text": [
      "Train on 7542 samples\n",
      "Epoch 1/20\n",
      "7542/7542 [==============================] - 34s 5ms/sample - loss: 0.0577 - acc: 0.9851\n",
      "Epoch 2/20\n",
      "7542/7542 [==============================] - 30s 4ms/sample - loss: 0.0453 - acc: 0.9874\n",
      "Epoch 3/20\n",
      "7542/7542 [==============================] - 31s 4ms/sample - loss: 0.0421 - acc: 0.9875\n",
      "Epoch 4/20\n",
      "7542/7542 [==============================] - 30s 4ms/sample - loss: 0.0398 - acc: 0.9875\n",
      "Epoch 5/20\n",
      "7542/7542 [==============================] - 30s 4ms/sample - loss: 0.0334 - acc: 0.9914\n",
      "Epoch 6/20\n",
      "7542/7542 [==============================] - 33s 4ms/sample - loss: 0.0414 - acc: 0.9902\n",
      "Epoch 7/20\n",
      "7542/7542 [==============================] - 30s 4ms/sample - loss: 0.0380 - acc: 0.9889\n",
      "Epoch 8/20\n",
      "7542/7542 [==============================] - 30s 4ms/sample - loss: 0.0288 - acc: 0.9915\n",
      "Epoch 9/20\n",
      "7542/7542 [==============================] - 31s 4ms/sample - loss: 0.0371 - acc: 0.9898\n",
      "Epoch 10/20\n",
      "7542/7542 [==============================] - 30s 4ms/sample - loss: 0.0376 - acc: 0.9905\n",
      "Epoch 11/20\n",
      "7542/7542 [==============================] - 30s 4ms/sample - loss: 0.0475 - acc: 0.9897\n",
      "Epoch 12/20\n",
      "7542/7542 [==============================] - 30s 4ms/sample - loss: 0.0546 - acc: 0.9873\n",
      "Epoch 13/20\n",
      "7542/7542 [==============================] - 30s 4ms/sample - loss: 0.0323 - acc: 0.9922\n",
      "Epoch 14/20\n",
      "7542/7542 [==============================] - 33s 4ms/sample - loss: 0.0395 - acc: 0.9898\n",
      "Epoch 15/20\n",
      "7542/7542 [==============================] - 41s 5ms/sample - loss: 0.0371 - acc: 0.9918\n",
      "Epoch 16/20\n",
      "7542/7542 [==============================] - 35s 5ms/sample - loss: 0.0357 - acc: 0.9887\n",
      "Epoch 17/20\n",
      "7542/7542 [==============================] - 33s 4ms/sample - loss: 0.0334 - acc: 0.9916\n",
      "Epoch 18/20\n",
      "7542/7542 [==============================] - 30s 4ms/sample - loss: 0.0288 - acc: 0.9914\n",
      "Epoch 19/20\n",
      "7542/7542 [==============================] - 31s 4ms/sample - loss: 0.0298 - acc: 0.9928\n",
      "Epoch 20/20\n",
      "7542/7542 [==============================] - 32s 4ms/sample - loss: 0.0198 - acc: 0.9940\n"
     ]
    },
    {
     "data": {
      "text/plain": [
       "<tensorflow.python.keras.callbacks.History at 0x1d226a54148>"
      ]
     },
     "execution_count": 142,
     "metadata": {},
     "output_type": "execute_result"
    }
   ],
   "source": [
    "model.fit(X, Y, epochs=20, callbacks=[tensorboard])"
   ]
  },
  {
   "cell_type": "code",
   "execution_count": 143,
   "metadata": {},
   "outputs": [],
   "source": [
    "model.save(\"RPS.model\")"
   ]
  },
  {
   "cell_type": "code",
   "execution_count": 144,
   "metadata": {},
   "outputs": [],
   "source": [
    "def prepare(file):\n",
    "    img = cv2.imread(file, 0)\n",
    "    img = cv2.resize(img, (IMG_SIZE, IMG_SIZE))\n",
    "    r, img = cv2.threshold(img, 50, 255, cv2.THRESH_BINARY)\n",
    "    return img.reshape(-1, IMG_SIZE, IMG_SIZE, 1)\n",
    "\n",
    "def thresh(file, th=127):\n",
    "    img = cv2.imread(file, 0)\n",
    "    img = cv2.resize(img, (IMG_SIZE, IMG_SIZE))\n",
    "    r, img = cv2.threshold(img, th, 255, cv2.THRESH_BINARY_INV)\n",
    "    return img"
   ]
  },
  {
   "cell_type": "code",
   "execution_count": 148,
   "metadata": {},
   "outputs": [
    {
     "data": {
      "image/png": "[encoded data removed]",
      "text/plain": [
       "<Figure size 432x288 with 1 Axes>"
      ]
     },
     "metadata": {
      "needs_background": "light"
     },
     "output_type": "display_data"
    }
   ],
   "source": [
    "img = \"imgs/test/img1.png\"\n",
    "new_img = prepare(img)\n",
    "plt.imshow(thresh(img, 132), cmap=\"binary\")\n",
    "plt.show()"
   ]
  },
  {
   "cell_type": "code",
   "execution_count": 149,
   "metadata": {},
   "outputs": [],
   "source": [
    "# model = tf.keras.models.load_model(\"RPS.model\")"
   ]
  },
  {
   "cell_type": "code",
   "execution_count": 150,
   "metadata": {},
   "outputs": [
    {
     "name": "stdout",
     "output_type": "stream",
     "text": [
      "paper\n"
     ]
    }
   ],
   "source": [
    "prediction = model.predict(new_img)\n",
    "print(SIGNS[np.argmax(prediction[0])])"
   ]
  },
  {
   "cell_type": "code",
   "execution_count": null,
   "metadata": {},
   "outputs": [],
   "source": []
  }
 ],
 "metadata": {
  "colab": {
   "name": "RPS-Train-Thresh.ipynb",
   "provenance": []
  },
  "kernelspec": {
   "display_name": "Python 3",
   "language": "python",
   "name": "python3"
  },
  "language_info": {
   "codemirror_mode": {
    "name": "ipython",
    "version": 3
   },
   "file_extension": ".py",
   "mimetype": "text/x-python",
   "name": "python",
   "nbconvert_exporter": "python",
   "pygments_lexer": "ipython3",
   "version": "3.7.4"
  }
 },
 "nbformat": 4,
 "nbformat_minor": 1
}
