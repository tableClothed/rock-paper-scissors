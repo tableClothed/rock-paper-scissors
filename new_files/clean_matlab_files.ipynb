{
 "cells": [
  {
   "cell_type": "code",
   "execution_count": 27,
   "metadata": {},
   "outputs": [],
   "source": [
    "import scipy.io as sio\n",
    "import os\n",
    "import numpy as np\n",
    "import cv2\n",
    "import matplotlib.pyplot as plt\n",
    "import matplotlib.image as mpimg\n",
    "from matplotlib import rcParams\n",
    "import pandas as pd\n",
    "\n",
    "rcParams[\"figure.figsize\"] = 20, 15"
   ]
  },
  {
   "cell_type": "code",
   "execution_count": 35,
   "metadata": {},
   "outputs": [],
   "source": [
    "TRAIN_PATH = os.getcwd() + \"\\\\images\\\\test\\\\\"\n",
    "TRAIN_DIRS = [dirs for dirs in os.listdir(TRAIN_PATH)]"
   ]
  },
  {
   "cell_type": "markdown",
   "metadata": {},
   "source": [
    "#### bbox  - [xmin, ymin, width, height]"
   ]
  },
  {
   "cell_type": "code",
   "execution_count": 41,
   "metadata": {},
   "outputs": [],
   "source": [
    "def find_bboxes(labels, img_id, img):\n",
    "    for points in labels[img_id]:\n",
    "        if len(points) > 1:\n",
    "            x = [n[0] for n in points]\n",
    "            y = [n[1] for n in points]\n",
    "            max_y = int(max(y))\n",
    "            min_y = int(min(y))\n",
    "            max_x = int(max(x))\n",
    "            min_x = int(min(x))\n",
    "            width = abs(max_x - min_x)\n",
    "            height = abs(max_y - min_y)\n",
    "            \n",
    "            bboxes.append([img, width, height, \"hand\", min_x, min_y, max_x, max_y])"
   ]
  },
  {
   "cell_type": "code",
   "execution_count": 42,
   "metadata": {},
   "outputs": [],
   "source": [
    "bboxes = []\n",
    "\n",
    "for train_dir in TRAIN_DIRS:\n",
    "    CUR_PATH = TRAIN_PATH + train_dir\n",
    "    dir_content = os.listdir(CUR_PATH)\n",
    "    labels = sio.loadmat(CUR_PATH + \"\\\\\" + dir_content[-1:][0])['polygons'][0]\n",
    "    dir_content = dir_content[:-1]\n",
    "    for img in dir_content:\n",
    "        img_id = dir_content.index(img)\n",
    "        find_bboxes(labels, img_id, img)"
   ]
  },
  {
   "cell_type": "code",
   "execution_count": 43,
   "metadata": {},
   "outputs": [
    {
     "data": {
      "text/plain": [
       "['frame_1945.jpg', 176, 107, 'hand', 591, 367, 767, 474]"
      ]
     },
     "execution_count": 43,
     "metadata": {},
     "output_type": "execute_result"
    }
   ],
   "source": [
    "bboxes[200]"
   ]
  },
  {
   "cell_type": "code",
   "execution_count": 44,
   "metadata": {},
   "outputs": [
    {
     "data": {
      "text/plain": [
       "(15053, 8)"
      ]
     },
     "execution_count": 44,
     "metadata": {},
     "output_type": "execute_result"
    }
   ],
   "source": [
    "np.array(bboxes).shape"
   ]
  },
  {
   "cell_type": "code",
   "execution_count": 46,
   "metadata": {},
   "outputs": [
    {
     "data": {
      "text/html": [
       "<div>\n",
       "<style scoped>\n",
       "    .dataframe tbody tr th:only-of-type {\n",
       "        vertical-align: middle;\n",
       "    }\n",
       "\n",
       "    .dataframe tbody tr th {\n",
       "        vertical-align: top;\n",
       "    }\n",
       "\n",
       "    .dataframe thead th {\n",
       "        text-align: right;\n",
       "    }\n",
       "</style>\n",
       "<table border=\"1\" class=\"dataframe\">\n",
       "  <thead>\n",
       "    <tr style=\"text-align: right;\">\n",
       "      <th></th>\n",
       "      <th>image</th>\n",
       "      <th>class</th>\n",
       "      <th>width</th>\n",
       "      <th>height</th>\n",
       "      <th>xmin</th>\n",
       "      <th>ymin</th>\n",
       "      <th>xmax</th>\n",
       "      <th>ymax</th>\n",
       "    </tr>\n",
       "  </thead>\n",
       "  <tbody>\n",
       "    <tr>\n",
       "      <th>0</th>\n",
       "      <td>frame_0011.jpg</td>\n",
       "      <td>177</td>\n",
       "      <td>98</td>\n",
       "      <td>hand</td>\n",
       "      <td>647</td>\n",
       "      <td>453</td>\n",
       "      <td>824</td>\n",
       "      <td>551</td>\n",
       "    </tr>\n",
       "    <tr>\n",
       "      <th>1</th>\n",
       "      <td>frame_0011.jpg</td>\n",
       "      <td>107</td>\n",
       "      <td>112</td>\n",
       "      <td>hand</td>\n",
       "      <td>515</td>\n",
       "      <td>431</td>\n",
       "      <td>622</td>\n",
       "      <td>543</td>\n",
       "    </tr>\n",
       "    <tr>\n",
       "      <th>2</th>\n",
       "      <td>frame_0036.jpg</td>\n",
       "      <td>159</td>\n",
       "      <td>86</td>\n",
       "      <td>hand</td>\n",
       "      <td>697</td>\n",
       "      <td>478</td>\n",
       "      <td>856</td>\n",
       "      <td>564</td>\n",
       "    </tr>\n",
       "    <tr>\n",
       "      <th>3</th>\n",
       "      <td>frame_0036.jpg</td>\n",
       "      <td>122</td>\n",
       "      <td>252</td>\n",
       "      <td>hand</td>\n",
       "      <td>432</td>\n",
       "      <td>460</td>\n",
       "      <td>554</td>\n",
       "      <td>712</td>\n",
       "    </tr>\n",
       "    <tr>\n",
       "      <th>4</th>\n",
       "      <td>frame_0099.jpg</td>\n",
       "      <td>171</td>\n",
       "      <td>99</td>\n",
       "      <td>hand</td>\n",
       "      <td>790</td>\n",
       "      <td>619</td>\n",
       "      <td>961</td>\n",
       "      <td>718</td>\n",
       "    </tr>\n",
       "  </tbody>\n",
       "</table>\n",
       "</div>"
      ],
      "text/plain": [
       "            image  class  width height  xmin  ymin  xmax  ymax\n",
       "0  frame_0011.jpg    177     98   hand   647   453   824   551\n",
       "1  frame_0011.jpg    107    112   hand   515   431   622   543\n",
       "2  frame_0036.jpg    159     86   hand   697   478   856   564\n",
       "3  frame_0036.jpg    122    252   hand   432   460   554   712\n",
       "4  frame_0099.jpg    171     99   hand   790   619   961   718"
      ]
     },
     "execution_count": 46,
     "metadata": {},
     "output_type": "execute_result"
    }
   ],
   "source": [
    "df = pd.DataFrame(bboxes, columns=[\"image\", \"class\", \"width\", \"height\", \"xmin\", \"ymin\", \"xmax\", \"ymax\"])\n",
    "df.head()"
   ]
  },
  {
   "cell_type": "code",
   "execution_count": 48,
   "metadata": {},
   "outputs": [],
   "source": [
    "df.to_csv(\"hand_bboxes.csv\", index=False, sep=\",\")"
   ]
  },
  {
   "cell_type": "code",
   "execution_count": null,
   "metadata": {},
   "outputs": [],
   "source": []
  }
 ],
 "metadata": {
  "kernelspec": {
   "display_name": "Python 3",
   "language": "python",
   "name": "python3"
  },
  "language_info": {
   "codemirror_mode": {
    "name": "ipython",
    "version": 3
   },
   "file_extension": ".py",
   "mimetype": "text/x-python",
   "name": "python",
   "nbconvert_exporter": "python",
   "pygments_lexer": "ipython3",
   "version": "3.7.6"
  }
 },
 "nbformat": 4,
 "nbformat_minor": 4
}
